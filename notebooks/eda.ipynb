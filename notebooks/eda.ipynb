{
 "cells": [
  {
   "cell_type": "code",
   "execution_count": null,
   "metadata": {},
   "outputs": [],
   "source": [
    "!pip install pywaffle"
   ]
  },
  {
   "cell_type": "code",
   "execution_count": null,
   "metadata": {},
   "outputs": [],
   "source": [
    "import pandas as pd\n",
    "import matplotlib as mpl\n",
    "import matplotlib.pyplot as plt\n",
    "from datetime import datetime, timedelta\n",
    "import seaborn as sns\n",
    "from pywaffle import Waffle"
   ]
  },
  {
   "cell_type": "code",
   "execution_count": null,
   "metadata": {},
   "outputs": [],
   "source": [
    "mpl.rcParams['figure.dpi']=300\n",
    "palette = {'A82331', 'DC5663'}\n",
    "background_color = '#FFF4EE'\n",
    "main_color = '#A82331'"
   ]
  },
  {
   "cell_type": "code",
   "execution_count": null,
   "metadata": {},
   "outputs": [],
   "source": [
    "nyc_hiv_by_age = pd.read_csv('../data/HIV_AIDS_Diagnoses_by_Neighborhood__Age_Group__and_Race_Ethnicity_20240129.csv')\n",
    "nyc_hiv_by_age.head()"
   ]
  },
  {
   "cell_type": "code",
   "execution_count": null,
   "metadata": {},
   "outputs": [],
   "source": [
    "nyc_hiv_by_age = nyc_hiv_by_age[['YEAR', 'NEIGHBORHOOD', 'RACE/ETHNICITY', 'AGE', 'TOTAL NUMBER OF HIV DIAGNOSES', 'HIV DIAGNOSES PER 100,000 POPULATION', 'Borough']]"
   ]
  },
  {
   "cell_type": "code",
   "execution_count": null,
   "metadata": {},
   "outputs": [],
   "source": [
    "nyc_hiv_by_age['TOTAL NUMBER OF HIV DIAGNOSES'] = nyc_hiv_by_age['TOTAL NUMBER OF HIV DIAGNOSES'].replace('*', 0)\n",
    "nyc_hiv_by_age['TOTAL NUMBER OF HIV DIAGNOSES'] = nyc_hiv_by_age['TOTAL NUMBER OF HIV DIAGNOSES'].astype('float')\n",
    "nyc_hiv_by_age['HIV DIAGNOSES PER 100,000 POPULATION'] = nyc_hiv_by_age['HIV DIAGNOSES PER 100,000 POPULATION'].replace('*', 0)\n",
    "nyc_hiv_by_age['HIV DIAGNOSES PER 100,000 POPULATION'] = nyc_hiv_by_age['HIV DIAGNOSES PER 100,000 POPULATION'].astype('float')"
   ]
  },
  {
   "cell_type": "code",
   "execution_count": null,
   "metadata": {},
   "outputs": [],
   "source": [
    "all_races = nyc_hiv_by_age[nyc_hiv_by_age['RACE/ETHNICITY']=='All']\n",
    "all_races['YEAR'].unique()"
   ]
  },
  {
   "cell_type": "code",
   "execution_count": null,
   "metadata": {},
   "outputs": [],
   "source": [
    "# data after 2013 also seems to be grouped by borough, which is not the case for the data before.\n",
    "all_hoods = all_races[(all_races['NEIGHBORHOOD'] == 'All') & (all_races.AGE == 'All') & (all_races.Borough.isna() | (all_races.Borough == 'All')) ]\n",
    "all_hoods.sort_values(by='YEAR').head(15)"
   ]
  },
  {
   "cell_type": "code",
   "execution_count": null,
   "metadata": {},
   "outputs": [],
   "source": [
    "nyc_hiv_by_sex_race = pd.read_csv('../data/HIV_AIDS_Diagnoses_by_Neighborhood__Sex__and_Race_Ethnicity_20240129.csv')\n",
    "nyc_hiv_by_sex_race.head()"
   ]
  },
  {
   "cell_type": "code",
   "execution_count": null,
   "metadata": {},
   "outputs": [],
   "source": [
    "nyc_hiv_by_sex_race.YEAR.unique()"
   ]
  },
  {
   "cell_type": "code",
   "execution_count": null,
   "metadata": {},
   "outputs": [],
   "source": [
    "annual_report = pd.read_csv('../data/DOHMH_HIV_AIDS_Annual_Report_20240129.csv')\n",
    "annual_report.head()"
   ]
  },
  {
   "cell_type": "code",
   "execution_count": null,
   "metadata": {},
   "outputs": [],
   "source": [
    "gen_annual_report = annual_report[(annual_report['Borough'] == 'All') & \\\n",
    "                                  (annual_report['Gender'] == 'All') & \\\n",
    "                                  (annual_report['Race'] == 'All') & \\\n",
    "                                  (annual_report['Age'] == 'All')]\n",
    "gen_annual_report.info()"
   ]
  },
  {
   "cell_type": "code",
   "execution_count": null,
   "metadata": {},
   "outputs": [],
   "source": [
    "gen_annual_report.head(20)"
   ]
  },
  {
   "cell_type": "code",
   "execution_count": null,
   "metadata": {},
   "outputs": [],
   "source": [
    "gender_annual_report = annual_report[(annual_report['Borough'] == 'All') & \\\n",
    "                                  (annual_report['Year'] == 2021) & \\\n",
    "                                  (annual_report['Race'] == 'All') & \\\n",
    "                                  (annual_report['Gender'].isin(['Men', 'Women'])) & \\\n",
    "                                  (annual_report['Age'] == 'All')]\n",
    "gender_annual_report.info()"
   ]
  },
  {
   "cell_type": "code",
   "execution_count": null,
   "metadata": {},
   "outputs": [],
   "source": [
    "gender_annual_report"
   ]
  },
  {
   "cell_type": "code",
   "execution_count": null,
   "metadata": {},
   "outputs": [],
   "source": [
    "plt.figure(FigureClass=Waffle,\n",
    "           rows=10,\n",
    "           columns=10,\n",
    "           values=gender_annual_report['HIV diagnoses'],\n",
    "           icons=['person', 'person-dress'],\n",
    "           colors = ['#E37882', '#A82331'],\n",
    "           font_size=23,\n",
    "           #title={\"label\": \"Waffle Title\", \"loc\": \"left\"}\n",
    "           )\n",
    "#ax.set_title('Test Title')"
   ]
  },
  {
   "cell_type": "code",
   "execution_count": null,
   "metadata": {},
   "outputs": [],
   "source": [
    "age_annual_report = annual_report[\n",
    "                                  (annual_report['Borough'] == 'All') & \\\n",
    "                                  (annual_report['Year'] == 2021) & \\\n",
    "                                  (annual_report['Race'] == 'All') & \\\n",
    "                                  (annual_report['Gender']=='All') & \\\n",
    "                                  (annual_report['Age'] != 'All')\n",
    "                                  ]\n",
    "\n",
    "age_annual_report.info()"
   ]
  },
  {
   "cell_type": "code",
   "execution_count": null,
   "metadata": {},
   "outputs": [],
   "source": [
    "age_annual_report.head(20)"
   ]
  },
  {
   "cell_type": "code",
   "execution_count": null,
   "metadata": {},
   "outputs": [],
   "source": [
    "colors = ['#A82331', '#D53444', '#DC5663','#E37882', '#EA99A1']\n",
    "plt.figure(figsize=(8, 8))\n",
    "plt.pie(age_annual_report['HIV diagnoses'], labels=age_annual_report['Age'], startangle=90, counterclock=False, autopct='%1.1f%%', textprops={'fontsize': 14}, colors=colors)\n"
   ]
  },
  {
   "cell_type": "code",
   "execution_count": null,
   "metadata": {},
   "outputs": [],
   "source": [
    "colors = ['#A82331', '#EA99A1']\n",
    "pc_to_r = [80961, 1086806-80961]\n",
    "labels = ['New York City', 'The Rest of the US']\n",
    "plt.figure(figsize=(8, 8))\n",
    "plt.pie(pc_to_r,\n",
    "         labels=labels, \n",
    "         startangle=90, \n",
    "         counterclock=False, \n",
    "         autopct='%1.1f%%', \n",
    "         textprops={'fontsize': 14}, \n",
    "         colors=colors)"
   ]
  },
  {
   "cell_type": "code",
   "execution_count": null,
   "metadata": {},
   "outputs": [],
   "source": [
    "plt.figure(figsize=(12, 8))\n",
    "ax = sns.barplot(data=age_annual_report, x='Age', y='HIV diagnoses', palette=['#A82331'], linewidth=0)\n",
    "ax.set_xlabel(None)\n",
    "ax.set_ylabel(None)\n",
    "plt.gca().spines['top'].set_visible(False)\n",
    "plt.gca().spines['right'].set_visible(False)\n",
    "plt.gca().spines['left'].set_visible(False)"
   ]
  },
  {
   "cell_type": "code",
   "execution_count": null,
   "metadata": {},
   "outputs": [],
   "source": [
    "race_annual_report = annual_report[\n",
    "                                  (annual_report['Borough'] == 'All') & \\\n",
    "                                  (annual_report['Year'] == 2021) & \\\n",
    "                                  (annual_report['Race'] != 'All') & \\\n",
    "                                  (annual_report['Gender']=='All') & \\\n",
    "                                  (annual_report['Age'] == 'All')\n",
    "                                  ]\n",
    "\n",
    "race_annual_report.sort_values(by='HIV diagnoses', inplace=True, ascending=False)\n",
    "race_annual_report.head()"
   ]
  },
  {
   "cell_type": "code",
   "execution_count": null,
   "metadata": {},
   "outputs": [],
   "source": [
    "race_annual_report = race_annual_report[['HIV diagnoses', 'Race']]\n",
    "race_annual_report.loc[len(race_annual_report.index)] = [82.0 + 17.0, 'Other']\n",
    "race_annual_report = race_annual_report[~race_annual_report['Race'].isin(['Asian/Pacific Islander', 'Other/Unknown'])]\n",
    "race_annual_report"
   ]
  },
  {
   "cell_type": "code",
   "execution_count": null,
   "metadata": {},
   "outputs": [],
   "source": [
    "colors = ['#A82331', '#D53444', '#DC5663','#EA99A1']\n",
    "plt.figure(figsize=(8, 8))\n",
    "ax = plt.pie(race_annual_report['HIV diagnoses'],\n",
    "              labels=race_annual_report['Race'], \n",
    "              startangle=90, counterclock=False, \n",
    "              autopct='%1.1f%%', \n",
    "              textprops={'fontsize': 14}, \n",
    "              colors=colors)"
   ]
  },
  {
   "cell_type": "code",
   "execution_count": null,
   "metadata": {},
   "outputs": [],
   "source": [
    "gen_race_nyc = {\n",
    "    \"Black\": 0.238,\n",
    "    \"Latinx/Hispanic\": 0.289,\n",
    "    \"White\": 0.319,\n",
    "    \"Other\": 0.154\n",
    "}\n",
    "# gen_race_nyc_df = pd.DataFrame(gen_race_nyc)\n",
    "# gen_race_nyc"
   ]
  },
  {
   "cell_type": "code",
   "execution_count": null,
   "metadata": {},
   "outputs": [],
   "source": [
    "colors = ['#A82331', '#D53444', '#DC5663','#EA99A1']\n",
    "plt.figure(figsize=(8, 8))\n",
    "ax = plt.pie(gen_race_nyc.values(),\n",
    "              labels=gen_race_nyc.keys(), \n",
    "              startangle=90, counterclock=False, \n",
    "              autopct='%1.1f%%', \n",
    "              textprops={'fontsize': 14}, \n",
    "              colors=colors)"
   ]
  },
  {
   "cell_type": "markdown",
   "metadata": {},
   "source": [
    "### How HIV rate and new diagnoses have changed overtime? General and by borough."
   ]
  },
  {
   "cell_type": "code",
   "execution_count": null,
   "metadata": {},
   "outputs": [],
   "source": [
    "plt.figure(figsize=(14,6))\n",
    "ax = sns.lineplot(data=gen_annual_report, y='HIV diagnoses', x='Year', color=main_color)\n",
    "ax.set_xlabel(None)\n",
    "ax.set_ylabel(None)\n",
    "ax.set_facecolor(background_color)\n",
    "plt.gca().spines['top'].set_visible(False)\n",
    "plt.gca().spines['right'].set_visible(False)\n",
    "plt.ylim(0, max(gen_annual_report['HIV diagnoses']) + 500)"
   ]
  },
  {
   "cell_type": "code",
   "execution_count": null,
   "metadata": {},
   "outputs": [],
   "source": [
    "plt.figure(figsize=(14,6))\n",
    "ax = sns.lineplot(data=gen_annual_report, y='HIV diagnosis rate', x='Year', color=main_color)\n",
    "ax.set_xlabel(None)\n",
    "ax.set_ylabel(None)\n",
    "ax.set_facecolor(background_color)\n",
    "plt.gca().spines['top'].set_visible(False)\n",
    "plt.gca().spines['right'].set_visible(False)\n",
    "plt.ylim(0, max(gen_annual_report['HIV diagnosis rate']) + 10)"
   ]
  },
  {
   "cell_type": "code",
   "execution_count": null,
   "metadata": {},
   "outputs": [],
   "source": [
    "# diagnoses overtime by race\n",
    "gen_annual_report_race = annual_report[\n",
    "                                  (annual_report['Borough'] == 'All') & \\\n",
    "                                  (annual_report['Gender']=='All') & \\\n",
    "                                  (annual_report['Age'] == 'All') & \\\n",
    "                                  (annual_report['UHF'] == 'All')\n",
    "                                  ]\n",
    "gen_annual_report_race.head(40)\n"
   ]
  },
  {
   "cell_type": "code",
   "execution_count": null,
   "metadata": {},
   "outputs": [],
   "source": [
    "plt.figure(figsize=(14,6))\n",
    "ax = sns.lineplot(data=gen_annual_report_race, y='HIV diagnosis rate', x='Year',hue='Race', color=main_color)\n",
    "ax.set_xlabel(None)\n",
    "ax.set_ylabel(None)\n",
    "ax.set_facecolor(background_color)\n",
    "plt.gca().spines['top'].set_visible(False)\n",
    "plt.gca().spines['right'].set_visible(False)"
   ]
  },
  {
   "cell_type": "code",
   "execution_count": null,
   "metadata": {},
   "outputs": [],
   "source": [
    "gen_annual_report_borough = annual_report[(annual_report['Borough'] != 'All') & \\\n",
    "                                  (annual_report['Gender'] == 'All') & \\\n",
    "                                  (annual_report['Race'] == 'All') & \\\n",
    "                                  (annual_report['Age'] == 'All') & \\\n",
    "                                  (annual_report['UHF'] == 'All')]\n",
    "gen_annual_report_borough.info()"
   ]
  },
  {
   "cell_type": "code",
   "execution_count": null,
   "metadata": {},
   "outputs": [],
   "source": [
    "gen_annual_report_borough[gen_annual_report_borough['Borough'] == 'Bronx']"
   ]
  },
  {
   "cell_type": "code",
   "execution_count": null,
   "metadata": {},
   "outputs": [],
   "source": [
    "plt.figure(figsize=(14,6))\n",
    "ax = sns.lineplot(data=gen_annual_report_borough, y='HIV diagnoses', x='Year', hue='Borough')\n",
    "ax.set_xlabel(None)\n",
    "ax.set_ylabel(None)\n",
    "ax.set_facecolor(background_color)\n",
    "plt.gca().spines['top'].set_visible(False)\n",
    "plt.gca().spines['right'].set_visible(False)\n",
    "#plt.ylim(0, max(gen_annual_report_borough['HIV diagnoses']))"
   ]
  },
  {
   "cell_type": "code",
   "execution_count": null,
   "metadata": {},
   "outputs": [],
   "source": [
    "#same plot but with the rate instead\n",
    "plt.figure(figsize=(14,6))\n",
    "ax = sns.lineplot(data=gen_annual_report_borough, y='HIV diagnosis rate', x='Year', hue='Borough')\n",
    "ax.set_xlabel(None)\n",
    "ax.set_ylabel(None)\n",
    "ax.set_facecolor(background_color)\n",
    "plt.gca().spines['top'].set_visible(False)\n",
    "plt.gca().spines['right'].set_visible(False)\n",
    "#plt.ylim(0, max(gen_annual_report_borough['HIV diagnoses']))"
   ]
  },
  {
   "cell_type": "markdown",
   "metadata": {},
   "source": [
    "### HIV Testing overtime"
   ]
  },
  {
   "cell_type": "code",
   "execution_count": null,
   "metadata": {},
   "outputs": [],
   "source": [
    "testing_nys = pd.read_csv('../data/BRFSS_nystate.csv')\n",
    "testing_nys.columns"
   ]
  },
  {
   "cell_type": "code",
   "execution_count": null,
   "metadata": {},
   "outputs": [],
   "source": [
    "testing_nys = testing_nys[['Year', 'Question',\n",
    "       'Response', 'Break_Out', 'Break_Out_Category', 'Sample_Size',\n",
    "       'Data_value', ]]\n",
    "testing_nys = testing_nys[(testing_nys.Break_Out == 'Overall') & \\\n",
    "                          (testing_nys.Break_Out_Category == 'Overall') & \\\n",
    "                          (testing_nys.Response == 'Yes')]\n",
    "testing_nys.info()"
   ]
  },
  {
   "cell_type": "code",
   "execution_count": null,
   "metadata": {},
   "outputs": [],
   "source": [
    "testing_nys.head()"
   ]
  },
  {
   "cell_type": "code",
   "execution_count": null,
   "metadata": {},
   "outputs": [],
   "source": [
    "#Percentage of Population Tested Overtime\n",
    "plt.figure(figsize=(12, 8))\n",
    "hundr = [ 100 for i in range(10)]\n",
    "ax2 = sns.barplot(data=testing_nys, x='Year', y=hundr,  palette=[\"#E8EBED\"], linewidth=0)\n",
    "ax = sns.barplot(data=testing_nys, x='Year', y='Data_value',  palette=[main_color], linewidth=0)\n",
    "\n",
    "ax.set_xlabel(None)\n",
    "ax.set_ylabel(None)\n",
    "ax.set_facecolor(background_color)\n",
    "plt.gca().spines['top'].set_visible(False)\n",
    "plt.gca().spines['right'].set_visible(False)"
   ]
  },
  {
   "cell_type": "code",
   "execution_count": null,
   "metadata": {},
   "outputs": [],
   "source": [
    "#check to see if statistical area has the same trend\n",
    "testing_sa = pd.read_csv('../data/BRFSS_stat_metroarea.csv')\n",
    "testing_sa.columns\n",
    "testing_sa = testing_sa[['Year', 'Question',\n",
    "       'Response', 'Break_Out', 'Break_Out_Category', 'Sample_Size',\n",
    "       'Data_value', ]]\n",
    "testing_sa = testing_sa[(testing_sa.Break_Out == 'Overall') & \\\n",
    "                          (testing_sa.Break_Out_Category == 'Overall') & \\\n",
    "                          (testing_sa.Response == 'Yes')]\n",
    "testing_sa.info()"
   ]
  },
  {
   "cell_type": "code",
   "execution_count": null,
   "metadata": {},
   "outputs": [],
   "source": [
    "ax = sns.barplot(data=testing_sa, x='Year', y='Data_value')"
   ]
  },
  {
   "cell_type": "markdown",
   "metadata": {},
   "source": [
    "## Condom distribution"
   ]
  },
  {
   "cell_type": "code",
   "execution_count": null,
   "metadata": {},
   "outputs": [],
   "source": [
    "active_con_dis = pd.read_csv('../data/NYC_Condom_Availability_Program_-_HIV_condom_distribution_locations_20240129.csv')\n",
    "active_con_dis.columns"
   ]
  },
  {
   "cell_type": "code",
   "execution_count": null,
   "metadata": {},
   "outputs": [],
   "source": [
    "active_con_dis = active_con_dis[['FacilityName','Address',\n",
    "       'Borough', 'Zipcode', 'Latitude', 'Longitude']]"
   ]
  },
  {
   "cell_type": "code",
   "execution_count": null,
   "metadata": {},
   "outputs": [],
   "source": [
    "active_con_dis.info()"
   ]
  },
  {
   "cell_type": "code",
   "execution_count": null,
   "metadata": {},
   "outputs": [],
   "source": [
    "active_con_dis.drop_duplicates()\n",
    "active_con_dis.to_csv('../data/clean_active_cond_dist.csv')"
   ]
  },
  {
   "cell_type": "code",
   "execution_count": null,
   "metadata": {},
   "outputs": [],
   "source": [
    "active_con_dis.head()"
   ]
  },
  {
   "cell_type": "code",
   "execution_count": null,
   "metadata": {},
   "outputs": [],
   "source": [
    "# check on locations by borough\n",
    "acd_by_borough = active_con_dis[['FacilityName', 'Borough']].groupby('Borough').count().reset_index()\n",
    "acd_by_borough.head()"
   ]
  },
  {
   "cell_type": "code",
   "execution_count": null,
   "metadata": {},
   "outputs": [],
   "source": [
    "plt.figure(figsize=(12, 8))\n",
    "ax = sns.barplot(data=acd_by_borough, \n",
    "                 x='Borough', \n",
    "                 y='FacilityName', \n",
    "                 order=acd_by_borough.sort_values('FacilityName', ascending=False).Borough,\n",
    "                 palette=[main_color],\n",
    "                 linewidth=0)\n",
    "ax.set_xlabel(None)\n",
    "ax.set_ylabel(None)\n",
    "ax.set_facecolor(background_color)\n",
    "plt.gca().spines['top'].set_visible(False)\n",
    "plt.gca().spines['right'].set_visible(False)\n",
    "#plt.gca().spines['left'].set_visible(False)\n",
    "for i in ax.containers:\n",
    "    ax.bar_label(i,)"
   ]
  },
  {
   "cell_type": "markdown",
   "metadata": {},
   "source": [
    "### Inactive condom distribution"
   ]
  },
  {
   "cell_type": "code",
   "execution_count": null,
   "metadata": {},
   "outputs": [],
   "source": [
    "inactive_con_dis = pd.read_csv('../data/NYC_Condom_Availability_Program_-_Inactive_HIV_condom_distribution_locations_20240129.csv')\n",
    "inactive_con_dis.columns"
   ]
  },
  {
   "cell_type": "code",
   "execution_count": null,
   "metadata": {},
   "outputs": [],
   "source": [
    "inactive_con_dis = inactive_con_dis[['FacilityName',  'Borough',\n",
    "       'Zipcode', 'Latitude', 'Longitude']]"
   ]
  },
  {
   "cell_type": "code",
   "execution_count": null,
   "metadata": {},
   "outputs": [],
   "source": [
    "inactive_con_dis.info()"
   ]
  },
  {
   "cell_type": "code",
   "execution_count": null,
   "metadata": {},
   "outputs": [],
   "source": [
    "inactive_con_dis.nunique()"
   ]
  },
  {
   "cell_type": "code",
   "execution_count": null,
   "metadata": {},
   "outputs": [],
   "source": [
    "inactive_con_dis = inactive_con_dis.drop_duplicates()\n",
    "inactive_con_dis.to_csv('../data/clean_inactive_cond_dist.csv')"
   ]
  },
  {
   "cell_type": "code",
   "execution_count": null,
   "metadata": {},
   "outputs": [],
   "source": [
    "icd_by_borough = inactive_con_dis[['FacilityName', 'Borough']].groupby('Borough').count()\n",
    "icd_by_borough.head()"
   ]
  },
  {
   "cell_type": "code",
   "execution_count": null,
   "metadata": {},
   "outputs": [],
   "source": [
    "icd_by_borough = inactive_con_dis[['FacilityName', 'Borough']].groupby('Borough').count().reset_index()\n",
    "icd_by_borough.head()"
   ]
  },
  {
   "cell_type": "code",
   "execution_count": null,
   "metadata": {},
   "outputs": [],
   "source": [
    "plt.figure(figsize=(12, 8))\n",
    "ax = sns.barplot(data=icd_by_borough, \n",
    "                 x='Borough', \n",
    "                 y='FacilityName', \n",
    "                 order=icd_by_borough.sort_values('FacilityName', ascending=False).Borough,\n",
    "                 palette=[main_color],\n",
    "                 linewidth=0)\n",
    "ax.set_xlabel(None)\n",
    "ax.set_ylabel(None)\n",
    "ax.set_facecolor(background_color)\n",
    "plt.gca().spines['top'].set_visible(False)\n",
    "plt.gca().spines['right'].set_visible(False)\n",
    "#plt.gca().spines['left'].set_visible(False)\n",
    "for i in ax.containers:\n",
    "    ax.bar_label(i,)"
   ]
  },
  {
   "cell_type": "code",
   "execution_count": null,
   "metadata": {},
   "outputs": [],
   "source": [
    "plt.figure(figsize=(12, 8))\n",
    "ax2 = sns.barplot(data=icd_by_borough, \n",
    "                 x='Borough', \n",
    "                 y='FacilityName', \n",
    "                 order=icd_by_borough.sort_values('FacilityName', ascending=False).Borough,\n",
    "                 palette=['#E8EBED'],\n",
    "                 linewidth=0)\n",
    "ax = sns.barplot(data=acd_by_borough, \n",
    "                 x='Borough', \n",
    "                 y='FacilityName', \n",
    "                 order=acd_by_borough.sort_values('FacilityName', ascending=False).Borough,\n",
    "                 palette=[main_color],\n",
    "                 linewidth=0)\n",
    "\n",
    "ax.set_xlabel(None)\n",
    "ax.set_ylabel(None)\n",
    "ax.set_facecolor(background_color)\n",
    "plt.gca().spines['top'].set_visible(False)\n",
    "plt.gca().spines['right'].set_visible(False)\n",
    "#plt.gca().spines['left'].set_visible(False)\n",
    "for i in ax.containers:\n",
    "    ax.bar_label(i,)"
   ]
  },
  {
   "cell_type": "markdown",
   "metadata": {},
   "source": [
    "### Syringe distribution"
   ]
  },
  {
   "cell_type": "code",
   "execution_count": null,
   "metadata": {},
   "outputs": [],
   "source": [
    "syringe_df = pd.read_csv('../data/syringe.csv')\n",
    "syringe_df = syringe_df[syringe_df.Year >= 2011]\n",
    "syringe_df"
   ]
  },
  {
   "cell_type": "code",
   "execution_count": null,
   "metadata": {},
   "outputs": [],
   "source": [
    "sns.lineplot(data=syringe_df, x='Year', y='tot_syr_dist')"
   ]
  },
  {
   "cell_type": "code",
   "execution_count": null,
   "metadata": {},
   "outputs": [],
   "source": []
  }
 ],
 "metadata": {
  "kernelspec": {
   "display_name": "base",
   "language": "python",
   "name": "python3"
  },
  "language_info": {
   "codemirror_mode": {
    "name": "ipython",
    "version": 3
   },
   "file_extension": ".py",
   "mimetype": "text/x-python",
   "name": "python",
   "nbconvert_exporter": "python",
   "pygments_lexer": "ipython3",
   "version": "3.9.12"
  }
 },
 "nbformat": 4,
 "nbformat_minor": 2
}

{
 "cells": [
  {
   "cell_type": "code",
   "execution_count": null,
   "metadata": {},
   "outputs": [],
   "source": [
    "import pandas as pd\n",
    "import geopandas as gpd\n",
    "import matplotlib as mpl\n",
    "import matplotlib.pyplot as plt\n",
    "import folium\n",
    "from folium.plugins import MarkerCluster\n",
    "from folium.plugins import FastMarkerCluster\n",
    "from matplotlib.colors import LinearSegmentedColormap"
   ]
  },
  {
   "cell_type": "code",
   "execution_count": null,
   "metadata": {},
   "outputs": [],
   "source": [
    "mpl.rcParams['figure.dpi']=300\n",
    "palette = {'A82331', 'DC5663'}\n",
    "background_color = '#FFF4EE'\n",
    "main_color = '#A82331'"
   ]
  },
  {
   "cell_type": "code",
   "execution_count": null,
   "metadata": {},
   "outputs": [],
   "source": [
    "plt.rcParams['axes.facecolor'] = 'white'"
   ]
  },
  {
   "cell_type": "code",
   "execution_count": null,
   "metadata": {},
   "outputs": [],
   "source": [
    "boroughs = gpd.read_file('../data/Borough Boundaries.geojson')\n",
    "boroughs.head(20)"
   ]
  },
  {
   "cell_type": "code",
   "execution_count": null,
   "metadata": {},
   "outputs": [],
   "source": [
    "boroughs.plot()"
   ]
  },
  {
   "cell_type": "code",
   "execution_count": null,
   "metadata": {},
   "outputs": [],
   "source": [
    "annual_report = pd.read_csv('../data/DOHMH_HIV_AIDS_Annual_Report_20240129.csv')\n",
    "borough_annual_report = annual_report[(annual_report['Borough'] != 'All') & \\\n",
    "                                  (annual_report['Year'] == 2021) & \\\n",
    "                                  (annual_report['Race'] == 'All') & \\\n",
    "                                  (annual_report['Gender'] == 'All') & \\\n",
    "                                  (annual_report['Age'] == 'All') & \\\n",
    "                                  (annual_report['UHF'] == 'All')]\n",
    "borough_annual_report"
   ]
  },
  {
   "cell_type": "code",
   "execution_count": null,
   "metadata": {},
   "outputs": [],
   "source": [
    "bor_p = pd.merge(boroughs, borough_annual_report, left_on='boro_name', right_on='Borough')\n",
    "bor_p"
   ]
  },
  {
   "cell_type": "code",
   "execution_count": null,
   "metadata": {},
   "outputs": [],
   "source": [
    "colors = [(0, '#EA99A1'), (0.5, '#DC5663'), (1, '#A82331')]\n",
    "red_cmap = LinearSegmentedColormap.from_list('custom_colormap', colors)"
   ]
  },
  {
   "cell_type": "code",
   "execution_count": null,
   "metadata": {},
   "outputs": [],
   "source": [
    "bor_p['coords'] = bor_p['geometry'].apply(lambda x: x.representative_point().coords[:])\n",
    "bor_p['coords'] = [coords[0] for coords in bor_p['coords']]"
   ]
  },
  {
   "cell_type": "code",
   "execution_count": null,
   "metadata": {},
   "outputs": [],
   "source": [
    "plt.figure(figsize=(8, 8))\n",
    "ax = bor_p.plot(column = 'HIV diagnoses', legend=True, cmap=red_cmap)\n",
    "for idx, row in bor_p.iterrows():\n",
    "    plt.annotate(text=row['boro_name'], xy=row['coords'], horizontalalignment='center')\n",
    "ax.set_xlabel(None)\n",
    "ax.set_ylabel(None)\n",
    "#ax.set_facecolor(background_color)\n",
    "plt.gca().set_xticklabels([])\n",
    "plt.gca().set_yticklabels([])\n",
    "plt.gca().spines['top'].set_visible(False)\n",
    "plt.gca().spines['right'].set_visible(False)\n",
    "plt.gca().spines['left'].set_visible(False)\n",
    "plt.gca().spines['bottom'].set_visible(False)"
   ]
  },
  {
   "cell_type": "code",
   "execution_count": null,
   "metadata": {},
   "outputs": [],
   "source": [
    "annual_report = pd.read_csv('../data/DOHMH_HIV_AIDS_Annual_Report_20240129.csv')\n",
    "uhf_annual_report = annual_report[(annual_report['Borough'] != 'All') & \\\n",
    "                                  (annual_report['Year'] == 2021) & \\\n",
    "                                  (annual_report['Race'] == 'All') & \\\n",
    "                                  (annual_report['Gender'] == 'All') & \\\n",
    "                                  (annual_report['Age'] == 'All') & \\\n",
    "                                  (annual_report['UHF'] != 'All')]\n",
    "uhf_annual_report.head()"
   ]
  },
  {
   "cell_type": "code",
   "execution_count": null,
   "metadata": {},
   "outputs": [],
   "source": [
    "uhf_codes = pd.read_csv('../data/uhf_codes.csv')\n",
    "uhf_codes = uhf_codes[['UHF_Code', 'Neighborhood']]\n",
    "uhf_codes.head()"
   ]
  },
  {
   "cell_type": "code",
   "execution_count": null,
   "metadata": {},
   "outputs": [],
   "source": [
    "uhf_annual_report_merged = pd.merge(left=uhf_annual_report, right=uhf_codes, left_on='UHF', right_on='Neighborhood', how='left')\n",
    "uhf_annual_report_merged.head()"
   ]
  },
  {
   "cell_type": "code",
   "execution_count": null,
   "metadata": {},
   "outputs": [],
   "source": [
    "neighborhoods = gpd.read_file('../data/uhf42.topo.json')\n",
    "neighborhoods['id'] = neighborhoods['id'].astype('int64')\n",
    "neighborhoods = neighborhoods.iloc[0:-1]\n",
    "neighborhoods"
   ]
  },
  {
   "cell_type": "code",
   "execution_count": null,
   "metadata": {},
   "outputs": [],
   "source": [
    "neighborhoods_hiv = pd.merge(left=uhf_annual_report_merged, right=neighborhoods, left_on='UHF_Code', right_on='id', how='left')"
   ]
  },
  {
   "cell_type": "code",
   "execution_count": null,
   "metadata": {},
   "outputs": [],
   "source": [
    "neighborhoods_hiv = gpd.GeoDataFrame(neighborhoods_hiv)\n",
    "neighborhoods_hiv.info()"
   ]
  },
  {
   "cell_type": "code",
   "execution_count": null,
   "metadata": {},
   "outputs": [],
   "source": [
    "neighborhoods_hiv['coords'] = neighborhoods_hiv['geometry'].apply(lambda x: x.representative_point().coords[:])\n",
    "neighborhoods_hiv['coords'] = [coords[0] for coords in neighborhoods_hiv['coords']]"
   ]
  },
  {
   "cell_type": "code",
   "execution_count": null,
   "metadata": {},
   "outputs": [],
   "source": [
    "#neighborhoods_hiv.plot()\n",
    "ax = neighborhoods_hiv.plot(column = 'HIV diagnoses', legend=True, cmap=red_cmap)\n",
    "# for idx, row in neighborhoods_hiv.iterrows():\n",
    "#     plt.annotate(text=row['UHF_Code'], xy=row['coords'], horizontalalignment='center')\n",
    "ax.set_xlabel(None)\n",
    "ax.set_ylabel(None)\n",
    "plt.gca().set_xticklabels([])\n",
    "plt.gca().set_yticklabels([])\n",
    "plt.gca().spines['top'].set_visible(False)\n",
    "plt.gca().spines['right'].set_visible(False)\n",
    "plt.gca().spines['left'].set_visible(False)\n",
    "plt.gca().spines['bottom'].set_visible(False)"
   ]
  },
  {
   "cell_type": "code",
   "execution_count": null,
   "metadata": {},
   "outputs": [],
   "source": [
    "# uhf_annual_report_merged2 = pd.merge(left=uhf_annual_report, right=uhf42, left_on='UHF', right_on='Neighborhood', how='left')\n",
    "# uhf_annual_report_merged2.head()"
   ]
  },
  {
   "cell_type": "code",
   "execution_count": null,
   "metadata": {},
   "outputs": [],
   "source": [
    "# mapping testing locations\n",
    "testing_locations = pd.read_csv('../data/HIV_Testing_Locations_20240129.csv')\n",
    "testing_locations['Borough'] = testing_locations['Borough'].str.lower().str.title()\n",
    "testing_locations = testing_locations[['Borough', 'Address']].groupby(by='Borough').count().reset_index()\n",
    "testing_locations= testing_locations.rename(columns={'Address': 'test_location_count'})\n",
    "testing_locations.head(10)"
   ]
  },
  {
   "cell_type": "code",
   "execution_count": null,
   "metadata": {},
   "outputs": [],
   "source": [
    "map_by_borough_testing = pd.merge(bor_p, testing_locations, how='left', left_on='boro_name', right_on='Borough')\n",
    "map_by_borough_testing.head()"
   ]
  },
  {
   "cell_type": "code",
   "execution_count": null,
   "metadata": {},
   "outputs": [],
   "source": [
    "plt.figure(figsize=(8, 8))\n",
    "ax = map_by_borough_testing.plot(column = 'test_location_count', legend=True, cmap=red_cmap)\n",
    "for idx, row in bor_p.iterrows():\n",
    "    plt.annotate(text=row['boro_name'], xy=row['coords'], horizontalalignment='center')\n",
    "ax.set_xlabel(None)\n",
    "ax.set_ylabel(None)\n",
    "plt.gca().set_xticklabels([])\n",
    "plt.gca().set_yticklabels([])\n",
    "plt.gca().spines['top'].set_visible(False)\n",
    "plt.gca().spines['right'].set_visible(False)\n",
    "plt.gca().spines['left'].set_visible(False)\n",
    "plt.gca().spines['bottom'].set_visible(False)"
   ]
  },
  {
   "cell_type": "markdown",
   "metadata": {},
   "source": [
    "Maps for condom distribution locations."
   ]
  },
  {
   "cell_type": "code",
   "execution_count": null,
   "metadata": {},
   "outputs": [],
   "source": [
    "active_condom_distrib = pd.read_csv('../data/clean_active_cond_dist.csv')\n",
    "active_condom_distrib.info()"
   ]
  },
  {
   "cell_type": "code",
   "execution_count": null,
   "metadata": {},
   "outputs": [],
   "source": [
    "ac_geo = gpd.GeoDataFrame(active_condom_distrib,\n",
    "                        crs = map_by_borough_testing.crs,\n",
    "                        geometry=gpd.points_from_xy(active_condom_distrib.Longitude,\n",
    "                            active_condom_distrib.Latitude))"
   ]
  },
  {
   "cell_type": "code",
   "execution_count": null,
   "metadata": {},
   "outputs": [],
   "source": [
    "type(ac_geo)"
   ]
  },
  {
   "cell_type": "code",
   "execution_count": null,
   "metadata": {},
   "outputs": [],
   "source": [
    "ac_map = gpd.sjoin(ac_geo, map_by_borough_testing, predicate = 'within')"
   ]
  },
  {
   "cell_type": "code",
   "execution_count": null,
   "metadata": {},
   "outputs": [],
   "source": [
    "ac_map.head()"
   ]
  },
  {
   "cell_type": "code",
   "execution_count": null,
   "metadata": {},
   "outputs": [],
   "source": [
    "ax = map_by_borough_testing.plot(figsize = (8, 10), color = 'powderblue')\n",
    "ac_map.plot( ax = ax, column = 'Borough')\n",
    "plt.show()"
   ]
  },
  {
   "cell_type": "code",
   "execution_count": null,
   "metadata": {},
   "outputs": [],
   "source": []
  }
 ],
 "metadata": {
  "kernelspec": {
   "display_name": "geospatial",
   "language": "python",
   "name": "python3"
  },
  "language_info": {
   "codemirror_mode": {
    "name": "ipython",
    "version": 3
   },
   "file_extension": ".py",
   "mimetype": "text/x-python",
   "name": "python",
   "nbconvert_exporter": "python",
   "pygments_lexer": "ipython3",
   "version": "3.10.13"
  }
 },
 "nbformat": 4,
 "nbformat_minor": 2
}

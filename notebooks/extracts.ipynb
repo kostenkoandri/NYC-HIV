{
 "cells": [
  {
   "cell_type": "code",
   "execution_count": null,
   "metadata": {},
   "outputs": [],
   "source": [
    "!pip install tabula-py"
   ]
  },
  {
   "cell_type": "code",
   "execution_count": null,
   "metadata": {},
   "outputs": [],
   "source": [
    "import pandas as pd\n",
    "import matplotlib as mpl\n",
    "from matplotlib import pyplot as plt\n",
    "import seaborn as sns\n",
    "import tabula"
   ]
  },
  {
   "cell_type": "code",
   "execution_count": null,
   "metadata": {},
   "outputs": [],
   "source": [
    "mpl.rcParams['figure.dpi']=300\n",
    "palette = {'A82331', 'DC5663'}\n",
    "background_color = '#FFF4EE'\n",
    "main_color = '#A82331'"
   ]
  },
  {
   "cell_type": "code",
   "execution_count": null,
   "metadata": {},
   "outputs": [],
   "source": [
    "test = tabula.read_pdf('../data/survaillence_reports/cdc-hiv-surveillance-tables-vol-2-no-2.pdf', pages=8)"
   ]
  },
  {
   "cell_type": "code",
   "execution_count": null,
   "metadata": {},
   "outputs": [],
   "source": [
    "test[0]"
   ]
  },
  {
   "cell_type": "code",
   "execution_count": null,
   "metadata": {},
   "outputs": [],
   "source": [
    "diag_by_year_2013_2018 = tabula.read_pdf('../data/survaillence_reports/cdc-hiv-surveillance-report-2018-preliminary-vol-30.pdf', pages=17)\n",
    "diag_by_year_2013_2018 = diag_by_year_2013_2018[0]\n",
    "diag_by_year_2013_2018 = diag_by_year_2013_2018.iloc[42:]\n",
    "diag_by_year_2013_2018 = diag_by_year_2013_2018.rename(columns={'2013': '2013_rate', '2014': '2014_rate', '2015': '2015_rate', '2016':'2016_rate', '2017': '2017_rate', '2018': '2018_rate'})\n",
    "diag_by_year_2013_2018 = diag_by_year_2013_2018.rename(columns={'Unnamed: 0': 'Region', 'Unnamed: 1': '2013_count', 'Unnamed: 2': '2014_count', 'Unnamed: 3':'2015_count', 'Unnamed: 4': '2016_count', 'Unnamed: 5': '2017_count', 'Unnamed: 6': '2018_count'})"
   ]
  },
  {
   "cell_type": "code",
   "execution_count": null,
   "metadata": {},
   "outputs": [],
   "source": [
    "diag_by_year_2013_2018"
   ]
  },
  {
   "cell_type": "code",
   "execution_count": null,
   "metadata": {},
   "outputs": [],
   "source": [
    "deaths_by_year_2013_2018 = tabula.read_pdf('../data/survaillence_reports/cdc-hiv-surveillance-report-2018-preliminary-vol-30.pdf', pages=83)\n",
    "deaths_by_year_2013_2018 = deaths_by_year_2013_2018[0]\n",
    "deaths_by_year_2013_2018 = deaths_by_year_2013_2018.iloc[12:]\n",
    "deaths_by_year_2013_2018 = deaths_by_year_2013_2018.drop(columns=['2013', \"2014\", \"2015\", \"2016\", \"2017\"])\n",
    "deaths_by_year_2013_2018 = deaths_by_year_2013_2018.rename(columns={'Unnamed: 2': '2013_rate', 'Unnamed: 4': '2014_rate', 'Unnamed: 6': '2015_rate', 'Unnamed: 8':'2016_rate', 'Unnamed: 10': '2017_rate'})\n",
    "deaths_by_year_2013_2018 = deaths_by_year_2013_2018.rename(columns={'Unnamed: 0': 'Region', 'Unnamed: 1': '2013_count', 'Unnamed: 3': '2014_count', 'Unnamed: 5':'2015_count', 'Unnamed: 7': '2016_count', 'Unnamed: 9': '2017_count'})\n"
   ]
  },
  {
   "cell_type": "code",
   "execution_count": null,
   "metadata": {},
   "outputs": [],
   "source": [
    "deaths_by_year_2013_2018"
   ]
  },
  {
   "cell_type": "code",
   "execution_count": null,
   "metadata": {},
   "outputs": [],
   "source": [
    "# Persons living with diagnosed HIV\n",
    "plwdhiv_by_year_2013_2018 = tabula.read_pdf('../data/survaillence_reports/cdc-hiv-surveillance-report-2018-preliminary-vol-30.pdf', pages=99)\n",
    "plwdhiv_by_year_2013_2018 = plwdhiv_by_year_2013_2018[0]\n",
    "plwdhiv_by_year_2013_2018 = plwdhiv_by_year_2013_2018.iloc[12:]\n",
    "plwdhiv_by_year_2013_2018 = plwdhiv_by_year_2013_2018.drop(columns=['2013', \"2014\", \"2015\", \"2016\", \"2017\"])\n",
    "plwdhiv_by_year_2013_2018 = plwdhiv_by_year_2013_2018.rename(columns={'Unnamed: 2': '2013_rate', 'Unnamed: 4': '2014_rate', 'Unnamed: 6': '2015_rate', 'Unnamed: 8':'2016_rate', 'Unnamed: 10': '2017_rate'})\n",
    "plwdhiv_by_year_2013_2018 = plwdhiv_by_year_2013_2018.rename(columns={'Unnamed: 0': 'Region', 'Unnamed: 1': '2013_count', 'Unnamed: 3': '2014_count', 'Unnamed: 5':'2015_count', 'Unnamed: 7': '2016_count', 'Unnamed: 9': '2017_count'})"
   ]
  },
  {
   "cell_type": "code",
   "execution_count": null,
   "metadata": {},
   "outputs": [],
   "source": [
    "plwdhiv_by_year_2013_2018"
   ]
  },
  {
   "cell_type": "code",
   "execution_count": null,
   "metadata": {},
   "outputs": [],
   "source": [
    "diag_by_year_2010_2014 = tabula.read_pdf('../data/survaillence_reports/surveillance_2014.pdf', pages=19)\n",
    "diag_by_year_2010_2014 = diag_by_year_2010_2014[0]\n",
    "diag_by_year_2010_2014 = diag_by_year_2010_2014.iloc[12:]\n",
    "# diag_by_year_2010_2014 = diag_by_year_2010_2014.rename(columns={'2013': '2013_rate', '2014': '2014_rate', '2015': '2015_rate', '2016':'2016_rate', '2017': '2017_rate', '2018': '2018_rate'})\n",
    "# diag_by_year_2010_2014 = diag_by_year_2010_2014.rename(columns={'Unnamed: 0': 'Region', 'Unnamed: 1': '2013_count', 'Unnamed: 2': '2014_count', 'Unnamed: 3':'2015_count', 'Unnamed: 4': '2016_count', 'Unnamed: 5': '2017_count', 'Unnamed: 6': '2018_count'})\n"
   ]
  },
  {
   "cell_type": "code",
   "execution_count": null,
   "metadata": {},
   "outputs": [],
   "source": [
    "diag_by_year_2010_2014"
   ]
  },
  {
   "cell_type": "code",
   "execution_count": null,
   "metadata": {},
   "outputs": [],
   "source": [
    "deaths_by_year_2010_2014 = tabula.read_pdf('../data/survaillence_reports/surveillance_2014.pdf', pages=72)\n",
    "deaths_by_year_2010_2014 = deaths_by_year_2010_2014[0]\n",
    "deaths_by_year_2010_2014 = deaths_by_year_2010_2014.iloc[13:]"
   ]
  },
  {
   "cell_type": "code",
   "execution_count": null,
   "metadata": {},
   "outputs": [],
   "source": [
    "deaths_by_year_2010_2014"
   ]
  },
  {
   "cell_type": "code",
   "execution_count": null,
   "metadata": {},
   "outputs": [],
   "source": [
    "plwdhiv_by_year_2010_2014 = tabula.read_pdf('../data/survaillence_reports/surveillance_2014.pdf', pages=92)\n",
    "plwdhiv_by_year_2010_2014 = plwdhiv_by_year_2010_2014[0]\n",
    "plwdhiv_by_year_2010_2014 = plwdhiv_by_year_2010_2014.iloc[13:]"
   ]
  },
  {
   "cell_type": "code",
   "execution_count": null,
   "metadata": {},
   "outputs": [],
   "source": [
    "plwdhiv_by_year_2010_2014"
   ]
  },
  {
   "cell_type": "code",
   "execution_count": null,
   "metadata": {},
   "outputs": [],
   "source": [
    "neighborhood_codes = tabula.read_pdf('../data/survaillence_reports/zipcodetable.pdf', pages=1)\n",
    "#neighborhood_codes = neighborhood_codes[0]\n",
    "neighborhood_codes"
   ]
  },
  {
   "cell_type": "code",
   "execution_count": null,
   "metadata": {},
   "outputs": [],
   "source": [
    "# Need to clean last three dfs, merge them all together"
   ]
  },
  {
   "cell_type": "code",
   "execution_count": null,
   "metadata": {},
   "outputs": [],
   "source": [
    "import requests\n",
    "from bs4 import BeautifulSoup"
   ]
  },
  {
   "cell_type": "code",
   "execution_count": null,
   "metadata": {},
   "outputs": [],
   "source": [
    "url = 'https://www.prisonpolicy.org/origin/ny/uhf_districts.html#:~:text=United%20Hospital%20Fund%20(UHF)%20Neighborhoods,York%20City%20Community%20Planning%20Districts.'\n",
    "\n",
    "response = requests.get(url)\n",
    "\n",
    "soup = BeautifulSoup(response.text)\n",
    "\n",
    "table = soup.find(id='table_appendix')\n",
    "\n",
    "\n",
    "data = []\n",
    "for row in table.find_all('tr'):\n",
    "    cols = row.find_all('td')\n",
    "    cols = [col.text.strip() for col in cols]\n",
    "    if cols:\n",
    "        data.append(cols)\n",
    "\n",
    "\n",
    "uhf_df = pd.DataFrame(data, columns=['UHF_Code', 'Neighborhood', 'Borough', 'P_in_prison', 'Census_Population', 'Total_Population', 'Imprisonment_rate'])\n",
    "\n",
    "\n",
    "uhf_df = uhf_df[['UHF_Code', 'Neighborhood', 'Borough']]"
   ]
  },
  {
   "cell_type": "code",
   "execution_count": null,
   "metadata": {},
   "outputs": [],
   "source": [
    "uhf_df.to_csv('../data/uhf_codes.csv', index=False)"
   ]
  },
  {
   "cell_type": "code",
   "execution_count": null,
   "metadata": {},
   "outputs": [],
   "source": [
    "df = pd.read_csv('../data/MUP_DPR_RY21_P04_V10_DY13_Geo.csv')\n",
    "df.columns"
   ]
  },
  {
   "cell_type": "code",
   "execution_count": null,
   "metadata": {},
   "outputs": [],
   "source": [
    "# These drugs can be used as HIV treatment or HIV postexposure prophylaxis\n",
    "def find_prescription():\n",
    "    PrEP = ['Emtricitabine/Tenofovir',\n",
    "            'Emtricitabine/Tenofov Alafenam', \n",
    "            'Emtricitabine/Tenofovir (Tdf)', \n",
    "            'Emtricitabine',\n",
    "            'Tenofovir Alafenamide', \n",
    "            'Cabotegravir/Rilpivirine'#,\n",
    "            # \"Tenofovir disoproxil fumarate\",\n",
    "            # \"tenofovir alafenamide\",\n",
    "            # \"Dolutegravir Sodium\",\n",
    "            # \"Dolutegravir Sodium/Lamivudine\",\n",
    "            # \"Dolutegravir/Rilpivirine\",\n",
    "            # 'Darunavir/Cobicistat',\n",
    "            # \"Darunavir Ethanolate\"\n",
    "            ]\n",
    "    #PrEP = [ i.lower() for i in PrEP ]\n",
    "    #PeP = ['']\n",
    "    df = pd.read_csv('../data/MUP_DPR_RY21_P04_V10_DY13_Geo.csv')\n",
    "    df = df[(df.Prscrbr_Geo_Desc == 'New York') & (df.Gnrc_Name.isin(PrEP))]\n",
    "    df = df[['Prscrbr_Geo_Desc', 'Brnd_Name', 'Gnrc_Name', 'Tot_Prscrbrs', 'Tot_Clms', 'Tot_30day_Fills', 'Tot_Benes']]\n",
    "    df['Year'] = '2013'\n",
    "    for num in range(14,22):\n",
    "        this_df = pd.read_csv(f'../data/MUP_DPR_RY21_P04_V10_DY{num}_Geo.csv')\n",
    "        this_df = this_df[(this_df.Prscrbr_Geo_Desc == 'New York') & (this_df.Gnrc_Name.isin(PrEP))]\n",
    "        this_df = this_df[['Prscrbr_Geo_Desc', 'Brnd_Name', 'Gnrc_Name', 'Tot_Prscrbrs', 'Tot_Clms', 'Tot_30day_Fills', 'Tot_Benes']]\n",
    "        this_df['Year'] = f'20{num}'\n",
    "        df = pd.concat([df, this_df], ignore_index=True)\n",
    "    return df"
   ]
  },
  {
   "cell_type": "code",
   "execution_count": null,
   "metadata": {},
   "outputs": [],
   "source": [
    "df = find_prescription()\n",
    "df"
   ]
  },
  {
   "cell_type": "code",
   "execution_count": null,
   "metadata": {},
   "outputs": [],
   "source": [
    "prep_claims_by_year = df[[\"Prscrbr_Geo_Desc\", \"Year\", \"Tot_Clms\"]].groupby('Year').sum('Tot_Clms')\n",
    "prep_claims_by_year"
   ]
  },
  {
   "cell_type": "code",
   "execution_count": null,
   "metadata": {},
   "outputs": [],
   "source": [
    "prep_claims_by_year.plot()"
   ]
  },
  {
   "cell_type": "code",
   "execution_count": null,
   "metadata": {},
   "outputs": [],
   "source": [
    "prep_benes_by_year = df[[\"Prscrbr_Geo_Desc\", \"Year\", \"Tot_Benes\"]].groupby('Year').sum('Tot_benes').reset_index()\n",
    "prep_benes_by_year"
   ]
  },
  {
   "cell_type": "code",
   "execution_count": null,
   "metadata": {},
   "outputs": [],
   "source": [
    "plt.figure(figsize=(14,6))\n",
    "ax = sns.lineplot(data=prep_benes_by_year, y='Tot_Benes', x='Year', color=main_color)\n",
    "ax.set_xlabel(None)\n",
    "ax.set_ylabel(None)\n",
    "ax.set_facecolor(background_color)\n",
    "plt.gca().spines['top'].set_visible(False)\n",
    "plt.gca().spines['right'].set_visible(False)\n",
    "plt.ylim(0, max(prep_benes_by_year['Tot_Benes']) + 500)"
   ]
  },
  {
   "cell_type": "code",
   "execution_count": null,
   "metadata": {},
   "outputs": [],
   "source": [
    "syringe_exchange = tabula.read_pdf('../data/syringe_exchange.pdf', pages=4, area=(337.29, 226.49, 472.85, 384.91))\n",
    "syringe_exchange = syringe_exchange[0]\n",
    "syringe_exchange.to_csv(\"../data/syringe2.csv\")"
   ]
  },
  {
   "cell_type": "code",
   "execution_count": null,
   "metadata": {},
   "outputs": [],
   "source": [
    "syringe_df = pd.read_csv('../data/syringe.csv')"
   ]
  },
  {
   "cell_type": "code",
   "execution_count": null,
   "metadata": {},
   "outputs": [],
   "source": [
    "syringe_df.head()"
   ]
  },
  {
   "cell_type": "code",
   "execution_count": null,
   "metadata": {},
   "outputs": [],
   "source": [
    "plt.figure(figsize=(12, 8))\n",
    "ax = sns.barplot(data=syringe_df, \n",
    "                 x='Year', \n",
    "                 y='tot_syr_dist', \n",
    "                 palette=[main_color],\n",
    "                 linewidth=0)\n",
    "ax.set_xlabel(None)\n",
    "ax.set_ylabel(None)\n",
    "ax.set_facecolor(background_color)\n",
    "plt.gca().spines['top'].set_visible(False)\n",
    "plt.gca().spines['right'].set_visible(False)\n",
    "#plt.gca().spines['left'].set_visible(False)"
   ]
  },
  {
   "cell_type": "code",
   "execution_count": null,
   "metadata": {},
   "outputs": [],
   "source": []
  }
 ],
 "metadata": {
  "kernelspec": {
   "display_name": "base",
   "language": "python",
   "name": "python3"
  },
  "language_info": {
   "codemirror_mode": {
    "name": "ipython",
    "version": 3
   },
   "file_extension": ".py",
   "mimetype": "text/x-python",
   "name": "python",
   "nbconvert_exporter": "python",
   "pygments_lexer": "ipython3",
   "version": "3.9.12"
  }
 },
 "nbformat": 4,
 "nbformat_minor": 2
}
